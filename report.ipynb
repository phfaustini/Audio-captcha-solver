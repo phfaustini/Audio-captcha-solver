{
 "cells": [
  {
   "cell_type": "markdown",
   "metadata": {},
   "source": [
    "#### Relatório do projeto - Mineração de Dados\n",
    "\n",
    "## Fabricio Antoniasse\n",
    "## Matheus Fernandes\n",
    "## Pedro Faustini"
   ]
  },
  {
   "cell_type": "markdown",
   "metadata": {},
   "source": [
    "## 1. Introdução\n",
    "\n",
    "Este trabalho estuda técnicas de mineração de dados para classificar áudio. Em específico, o universo a ser classificado consiste em dez caracteres: 6, 7, a, b, c, d, h, m, n, x. Cada arquivo de áudio, chamado de _captcha_, contém 4 caracteres, podendo haver caracteres repetidos ou não. O objetivo é identificar quais caracteres estão presentes nos _captchas_. A classificação de um _captcha_ é considerada sucesso quando **todos** os seus quatro caracteres são corretamente identificados. Caso haja uma ou mais caracteres erroneamente classificados em um _captcha_, a classificação é considerada errada para aquele _captcha_.\n",
    "\n",
    "### Ferramentas necessárias para a reprodução:\n",
    "\n",
    "Para este trabalho foram utilizadas as ferramentas mencionadas abaixo. É importante prestar atenção nas versões das mesmas, quando indicadas.\n",
    "\n",
    "#### Programas e ambientes\n",
    "- FFMPEG\n",
    "- Anaconda (Python>=3.5) \n",
    "- Linux\n",
    "\n",
    "#### Bibliotecas python\n",
    "-  numpy>=1.13.3\n",
    "-  pandas>=0.20.3\n",
    "-  scikit-learn>=0.19.1\n",
    "-  scipy==1.1.0 \n",
    "-  librosa>=0.6.1\n",
    "-  matplotlib>=1.5.3\n",
    "-  ipython>=6.2.1\n",
    "-  Sox (`conda install -c conda-forge sox`)\n",
    "\n",
    "#### Pastas\n",
    "- É assumido que no diretório em que se encontra este documento haja uma pasta chamada *fase\\_1*. Dentro desta pasta deve haver duas pastas: *base\\_treinamento\\_I* e *base\\_validacao\\_I*, cada uma uma com os captchas de áudio.\n",
    "\n",
    "\n",
    "Numpy e Pandas são bibliotecas criadas para manipular vetores de uma forma mais otimizada e rica em informação em relação à classe _list_ da biblioteca padrão do Python. Scikit-learn é uma biblioteca que implementa diversos algoritmos de mineração de dados, bem como técnicas de transformação e pré-processamento. Scipy é uma biblioteca usada para computação científica. Matplotlib fornece funções para plotar imagens e gráficos. Por fim, librosa é uma biblioteca para manipulação de áudio. \n",
    "\n",
    "Além das bibliotecas citadas, já fornecemos junto com os arquivos a biblioteca `pysndfx`, que nada mais é do que um *wrapper* para o Sox. A biblioteca está disponível no [Github](https://github.com/carlthome/python-audio-effects)."
   ]
  },
  {
   "cell_type": "markdown",
   "metadata": {},
   "source": [
    "## 2. Análise exploratória\n",
    "\n",
    "A primeira tarefa criar a estrutura de pastas necessárias para segmentar os _captchas_. Como cada _captcha_ contém quatro caracteres, a ideia é gerar quatro arquivos .wav, um para cada caractere."
   ]
  },
  {
   "cell_type": "code",
   "execution_count": 1,
   "metadata": {
    "collapsed": true
   },
   "outputs": [],
   "source": [
    "from IPython.display import display"
   ]
  },
  {
   "cell_type": "code",
   "execution_count": 2,
   "metadata": {
    "collapsed": true
   },
   "outputs": [],
   "source": [
    "from main import create_folder_structure\n",
    "create_folder_structure()"
   ]
  },
  {
   "cell_type": "markdown",
   "metadata": {},
   "source": [
    "### 2.1 Segmentação"
   ]
  },
  {
   "cell_type": "markdown",
   "metadata": {},
   "source": [
    "A segmentação segue os passos:\n",
    "\n",
    "- O áudio é normalizado (tornando o maior pico = 1) e os silêncios ao início e ao fim são removidos;\n",
    "- Um `limiter` é aplicado, com o parâmetro de 20dB. Isso significa que qualquer sinal com intensidade maior que este limite são diminuídos até 20dB. Isso é feito para tentar reduzir a diferença entre picos mais altos e mais baixos, pois nem todas as letras são gravadas com a mesma intensidade;\n",
    "- Frequências acima de 2500Hz e abaixo de 100Hz são descartadas, pois são frequências com pouca informação vocal;\n",
    "- Então, um equalizador é aplicado na faixa de 300Hz, intensificando essas frequências por 15dB. Na prática, isso causa um *boost* nas regiões onde há grande informação vocal, potencialmente até distorcendo-as, e deixando a diferença entre voz e fundo muito mais clara;\n",
    "- Samples com intensidade menor que 0.5 são zerados, em uma tentativa de remover ruído de gravação. Idealmente, regiões silenciosas (sem voz) seriam zeradas;\n",
    "- A função `find_peaks`, da biblioteca `scipy.signal` é usada para encontrar os picos do áudio. Essa função retorna todos os máximos e mínimos locais de um sinal. Mesmo passando parâmetros de altura mínima (de forma a apenas encontrar máximos) e distância mínima de 1s entre picos, por vezes a função encontra mais do que 4 picos, chamados daqui em diante de pontos;\n",
    "- A intenção é que cada ponto represente um caractere. São escolhidos os pares de pontos mais próximos um do outro, e ambos são removidos e substituídos pela sua média. Isso é feito até que restem apenas 4 pontos. Teoricamente, ao fazer isso estamos pegando os caracteres com mais de um pico e colapsando suas posições até restar apenas um ponto, próximo ao seu centro;\n",
    "- A partir de cada ponto encontrado, é extraída do áudio original uma região de 1s para cada lado, totalizando no máximo 2s de áudio. O ruído de fundo (silêncio) de cada lado e removido, isolando apenas a fala, e, como essa operação normalmente remove o começo e final do caractere, 0.25s são adicionados de volta de cada lado;\n",
    "- Os áudios encontrados são exportados, assumindo que foram encontrados na ordem em que estão presentes no nome do arquivo.\n"
   ]
  },
  {
   "cell_type": "markdown",
   "metadata": {},
   "source": [
    "Na imagem abaixo, desenhamos as ondas de um exemplo da base de treinamento.\n",
    "\n",
    "A onda laranja representa o áudio original. A onda azul mostra o áudio após feito o processamento. Pode-se notar que os picos estão bem mais visíveis, e as regiões de ruído de fundo tornaram-se silêncio; dessa forma, temos um áudio próximo de \"binarizado\", onde 1 é fala, e 0 é silêncio.\n",
    "\n",
    "Os riscos em vermelho são os quatro pontos encontrados."
   ]
  },
  {
   "cell_type": "code",
   "execution_count": 3,
   "metadata": {},
   "outputs": [
    {
     "data": {
      "image/png": "[encoded data removed]",
      "text/plain": [
       "<matplotlib.figure.Figure at 0x7f51ebd08160>"
      ]
     },
     "metadata": {},
     "output_type": "display_data"
    }
   ],
   "source": [
    "import trim_peaks as trim\n",
    "\n",
    "trim.trim('./fase_1/base_treinamento_I/abm7.wav', '', True) #desenha o grafico"
   ]
  },
  {
   "cell_type": "markdown",
   "metadata": {},
   "source": [
    "### 2.2 Análise preliminar de classificadores"
   ]
  },
  {
   "cell_type": "markdown",
   "metadata": {},
   "source": [
    "Em um primeiro momento, é necessário criar a estrutura de pastas para que os algoritmos de mineração de dados atuem. É **assumido** que haja, no atual diretório, uma pasta chamada *fase\\_1/base\\_treinamento\\_I* e uma pasta chamada *fase\\_1\\_base_validacao\\_I*. Dentro dessas pastas, há uma pasta para cada _captcha_ contendo um arquivo .wav, cujo nome são os quatro caracteres que compõem o _captcha_ na ordem em que aparecem."
   ]
  },
  {
   "cell_type": "markdown",
   "metadata": {},
   "source": [
    "Desta forma, a estrutura de pastas necessária para a classificação é montada. Os arquivos segmentados ficam nas pastas *output\\_training* e *output\\_test*. Dentro de cada pasta há um arquivo .wav para cada caractere identificado na segmentação. O nome de cada arquivo é *ordem\\-caractere.wav*. Por exemplo, se o terceiro caractere de um dado _captcha_ for a letra \"d\", o nome do arquivo correspondente a ele será *3-d.wav*."
   ]
  },
  {
   "cell_type": "code",
   "execution_count": 4,
   "metadata": {
    "collapsed": true
   },
   "outputs": [],
   "source": [
    "from classification_test import train, test"
   ]
  },
  {
   "cell_type": "code",
   "execution_count": 5,
   "metadata": {
    "collapsed": true
   },
   "outputs": [],
   "source": [
    "from display_results import resultados_acuracia, resultados_caracteres"
   ]
  },
  {
   "cell_type": "markdown",
   "metadata": {},
   "source": [
    "A seguir é necessário extrair atributos da base de dados."
   ]
  },
  {
   "cell_type": "markdown",
   "metadata": {},
   "source": [
    "A função `get_spectrum` extrai a intensidade média dentro de cada um dos [espectros de áudio](https://www.teachmeaudio.com/mixing/techniques/audio-spectrum/). Por exemplo, os espectros mais agudos poderiam ajudar um classificador a separar caracteres sibilantes (com sons de \"S\", como x e 7) de caracteres não sibilantes (como m e h)."
   ]
  },
  {
   "cell_type": "markdown",
   "metadata": {},
   "source": [
    "Também extraímos, com o auxílio da biblioteca *librosa*, o [MFCC](https://www.maxwell.vrac.puc-rio.br/23090/23090_4.PDF) (Mel-Frequency Cepstral Coefficients) das ondas sonoras. Para cada áudio, o MFCC retornado é uma matriz, onde cada linha possui um vetor numérico. O MFCC procura imitar as características que seres humanos percebem pelo ouvido. Para não lidar com um número absurdamente grande de atributos, usamos somente a mediana e o desvio padrão de cada vetor, que teve todos os valores tornados positivos. Isso foi feito porque os vetores do MFCC continham valores negativos e positivos (ondas), e assim a mediana tenderia a ser sempre próxima de zero."
   ]
  },
  {
   "cell_type": "markdown",
   "metadata": {},
   "source": [
    "Além disso, também com o auxílio da *librosa*, contamos quantas vezes o áudio corta o zero no eixo y. Também extraímos a mediana e o desvio padrão para os atributos *spectral_rolloff* e *spectral_centroid*."
   ]
  },
  {
   "cell_type": "markdown",
   "metadata": {},
   "source": [
    "O treinamento é feito sobre toda a base de treino, e os dados são normalizados de forma a terem média 0 e desvio 1. Isso é importante principalmente para algoritmos baseados em distância, de forma que atributos com valores maiores não dominem a classificação em detrimento de outros cujos valores tendem a ser mais próximos de zero."
   ]
  },
  {
   "cell_type": "code",
   "execution_count": 6,
   "metadata": {
    "collapsed": true
   },
   "outputs": [],
   "source": [
    "X_train, y_train, std_scale = train()"
   ]
  },
  {
   "cell_type": "markdown",
   "metadata": {},
   "source": [
    "Feito o treinamento, realizamos testes com dois classificadores, a partir do mesmo conjunto de atributos e sobre a mesma base de validação. Além dos _captchas_, procuramos analisar seu desempenho de forma individual, ou seja, caractere por caractere. Dessa forma, conseguiríamos identificar pontos fortes e fracos."
   ]
  },
  {
   "cell_type": "code",
   "execution_count": 7,
   "metadata": {
    "collapsed": true
   },
   "outputs": [],
   "source": [
    "captchas_total, acuracia_caracteres, captchas_svm, caracteres_svm, captchas_1nn, caracteres_1nn, errados,corretos,elementos,corretos_svm,corretos_1nn,errados_svm,errados_1nn = test(X_train, y_train, std_scale)"
   ]
  },
  {
   "cell_type": "code",
   "execution_count": null,
   "metadata": {},
   "outputs": [],
   "source": [
    "display(resultados_acuracia(\"\", [(\"Acuracia SVM (captcha)\", \"{0:.2f}\".format(captchas_svm)), (\"Acuracia SVM (caracteres)\", \"{0:.2f}\".format(caracteres_svm)),\n",
    "                        (\"Acuracia 1NN (captcha)\",\"{0:.2f}\".format(captchas_1nn) ), (\"Acuracia 1NN (caracteres)\", \"{0:.2f}\".format(caracteres_1nn))]))"
   ]
  },
  {
   "cell_type": "markdown",
   "metadata": {},
   "source": [
    "| Métrica                    | Taxa  |\n",
    "|:-:|:-:|\n",
    "|Acuracia SVM (captcha)      | 25.17%|\n",
    "|Acuracia SVM (caracteres)   | 69.48%|\n",
    "|Acuracia 1NN (captcha)      | 20.41%|\n",
    "|Acuracia 1NN (caracteres)   | 66.21%|"
   ]
  },
  {
   "cell_type": "code",
   "execution_count": null,
   "metadata": {},
   "outputs": [],
   "source": [
    "display(resultados_caracteres(\"SVM\",corretos_svm,  errados_svm, elementos))"
   ]
  },
  {
   "cell_type": "markdown",
   "metadata": {},
   "source": [
    "**Resultados SVM**\n",
    "\n",
    "|Caractere| Acerto        | Erro          |\n",
    "|:--------|---------------:|:---------------|\n",
    "    |6       |41/65 (63.08%) |24/65 (36.92%) |\n",
    "    |7       |58/61 (95.08%) |03/61 (04.92%) |\n",
    "    |a       |53/61 (86.89%) |08/61 (13.11%) |\n",
    "    |b       |47/58 (81.03%) |11/58 (18.97%) |\n",
    "    |c       |43/67 (64.18%) |24/67 (35.82%) |\n",
    "    |d       |05/47 (10.64%) |42/47 (89.36%) |\n",
    "    |h       |62/68 (91.18%) |06/68 (08.82%) |\n",
    "    |m       |26/62 (41.94%) |36/62 (58.06%) |\n",
    "    |n       |35/47 (74.47%) |12/47 (25.53%) |\n",
    "    |x       |33/44 (75.00%) |11/44 (25.00%) |"
   ]
  },
  {
   "cell_type": "code",
   "execution_count": null,
   "metadata": {
    "scrolled": true
   },
   "outputs": [],
   "source": [
    "display(resultados_caracteres(\"1NN\",corretos_1nn,  errados_1nn, elementos))"
   ]
  },
  {
   "cell_type": "markdown",
   "metadata": {},
   "source": [
    "**Resultados 1NN**\n",
    "\n",
    "|Caractere| Acerto        | Erro          |\n",
    "    |:--------|---------------:|:---------------|\n",
    "    |6       |39/65 (60.00%) |26/65 (40.00%) |\n",
    "    |7       |51/61 (83.61%) |10/61 (16.39%) |\n",
    "    |a       |40/61 (65.57%) |21/61 (34.43%) |\n",
    "    |b       |34/58 (58.62%) |24/58 (41.38%) |\n",
    "    |c       |43/67 (64.18%) |24/67 (35.82%) |\n",
    "    |d       |18/47 (38.30%) |29/47 (61.70%) |\n",
    "    |h       |60/68 (88.24%) |08/68 (11.76%) |\n",
    "    |m       |38/62 (61.29%) |24/62 (38.71%) |\n",
    "    |n       |29/47 (61.70%) |18/47 (38.30%) |\n",
    "    |x       |32/44 (72.73%) |12/44 (27.27%) |"
   ]
  },
  {
   "cell_type": "markdown",
   "metadata": {},
   "source": [
    "A partir de uma análise preliminar, foi percebido que o algoritmo SVM apresentava, no geral, bons índices de classificação. Contudo, sua taxa de erro era superior à de acerto para os caracteres 'd' e 'm'. Contudo, o algoritmo 1NN apresentava resultados superiores para este caractere. "
   ]
  },
  {
   "cell_type": "markdown",
   "metadata": {},
   "source": [
    "## 3. Metodologia"
   ]
  },
  {
   "cell_type": "markdown",
   "metadata": {},
   "source": [
    "Para cada caso, é calculada a acurácia na detecção de cada caracter. Também é calculada a acurácia geral na detecção de caracteres. Por fim, é calculada a acurácia na detecção de _captchas_.\n",
    "\n",
    "Os algoritmos usados, conforme já mencionado, são 1NN e SVM.\n",
    "\n",
    "- 1NN:\n",
    "\n",
    "    Uma variante do K-Nearest Neighbour (KNN) quando K=1. Em resumo, ele recebe um elemento de teste e calcula sua distância para os demais elementos na base de dados. O elemento de teste recebe a classe do elemento mais próximo. Podem ser usadas diferentes métricas de distância. As mais comuns são as distâncias euclidianas, Manhattan e Mahalanobis. No presente caso, foi usada a distância euclidiana.\n",
    "\n",
    "\n",
    "- SVM:\n",
    "\n",
    "    Sigla para _Support Vector Machine_. A partir de uma base de dados com elementos rotulados, o algoritmo constrói um modelo de pontos em um espaço de forma que cada classe esteja no espaço mais amplo possível. Então, ele traça retas, e os elementos são classificados conforme o local em que são colocados."
   ]
  },
  {
   "cell_type": "markdown",
   "metadata": {},
   "source": [
    "A análise exploratória mostrou que o algoritmo SVM apresentava um bom desempenho geral, mas nos casos específicos das letras 'd' e 'm', sua taxa de acerto era inferior à taxa de erro. O 1NN, por outro lado, apresentava resultados melhores. \n",
    "\n",
    "Foi usada, portanto, a seguinte heurística: o resultado escolhido é aquele indicado pelo SVM. Porém, caso tal resultado seja os caracteres 'd' ou 'm', opta-se pela resposta de 1NN. Como em somente 10% dos casos o SVM reportava 'd' como resposta corretamente, tal abordagem resultaria em um recall muito baixo da letra 'd'. Então, também foi decidido que sempre que 1NN reportasse o caractere 'd' ou o caractere 'm', sua resposta seria a escolhida."
   ]
  },
  {
   "cell_type": "markdown",
   "metadata": {},
   "source": [
    "## 4. Resultados"
   ]
  },
  {
   "cell_type": "code",
   "execution_count": null,
   "metadata": {},
   "outputs": [],
   "source": [
    "display(resultados_caracteres(\"Resultados finais\", corretos, errados, elementos))"
   ]
  },
  {
   "cell_type": "markdown",
   "metadata": {},
   "source": [
    "**Resultados**\n",
    "\n",
    "|Caractere| Acerto        | Erro          |\n",
    "    |:--------|---------------:|:---------------|\n",
    "    |6       |41/65 (63.08%) |24/65 (36.92%) |\n",
    "    |7       |58/61 (95.08%) |03/61 (04.92%) |\n",
    "    |a       |53/61 (86.89%) |08/61 (13.11%) |\n",
    "    |b       |35/58 (60.34%) |23/58 (39.66%) |\n",
    "    |c       |44/67 (65.67%) |23/67 (34.33%) |\n",
    "    |d       |18/47 (38.30%) |29/47 (61.70%) |\n",
    "    |h       |61/68 (89.71%) |07/68 (10.29%) |\n",
    "    |m       |38/62 (61.29%) |24/62 (38.71%) |\n",
    "    |n       |30/47 (63.83%) |17/47 (36.17%) |\n",
    "    |x       |33/44 (75.00%) |11/44 (25.00%) |"
   ]
  },
  {
   "cell_type": "code",
   "execution_count": null,
   "metadata": {},
   "outputs": [],
   "source": [
    "display(resultados_acuracia(\"\", [(\"Acuracia (captcha)\", \"{0:.2f}\".format(captchas_total)), (\"Acuracia (caracteres)\", \"{0:.2f}\".format(acuracia_caracteres)) ]))\n",
    "\n"
   ]
  },
  {
   "cell_type": "markdown",
   "metadata": {},
   "source": [
    "**Resultados**\n",
    "\n",
    "|Métrica| Taxa        |\n",
    "    |---------------:|:---------------|\n",
    "    |Acuracia (captcha) |  27.21%|\n",
    "    |Acuracia (caracteres) | 70.86%|"
   ]
  },
  {
   "cell_type": "markdown",
   "metadata": {},
   "source": [
    "A acurácia obtida na detecção de _captchas_ está condizente com a acurácia individual de detecção de caracteres. A afirmação vem da suposição de que um classificador que obtenha 71% de acurácia para os caracteres tende, ao classificar um _captcha_ com quatro caracteres, obteria: \n",
    "\n",
    "$$0.71 \\cdot 0.71 \\cdot 0.71 \\cdot 0.71 = 0.71^4 = 25.4\\%$$\n",
    "\n",
    "Nossos testes chegaram a 27.21% de acerto, próximo da expectativa teórica."
   ]
  },
  {
   "cell_type": "markdown",
   "metadata": {},
   "source": [
    "## 5. Comentários finais\n",
    "\n",
    "- Dificuldades encontradas\n",
    "\n",
    "    A segmentação não foi um processo trivial. Separar o áudio em faixas de tempo pré-determinadas era uma estratégia perigosa, e por isso foi necessário elaborar uma estratégia mais refinada.\n",
    "    \n",
    "    O tempo de execução dos diversos passos descritos acima, que somados demoram quase 15 minutos, também se mostrou uma dificuldade prática na hora de avaliar os algoritmos.\n",
    "    \n",
    "\n",
    "\n",
    "- Ideias que não foram exploradas e a razão\n",
    "\n",
    "    Explorar mais atributos, por meio de outras funções da librosa (como spectral_centroid, spectral_contrast ou rmse). Porém, tais inclusões devem ser feitas sem que o tempo de 15 minutos seja rompido."
   ]
  }
 ],
 "metadata": {
  "kernelspec": {
   "display_name": "Python 3",
   "language": "python",
   "name": "python3"
  },
  "language_info": {
   "codemirror_mode": {
    "name": "ipython",
    "version": 3
   },
   "file_extension": ".py",
   "mimetype": "text/x-python",
   "name": "python",
   "nbconvert_exporter": "python",
   "pygments_lexer": "ipython3",
   "version": "3.6.2"
  }
 },
 "nbformat": 4,
 "nbformat_minor": 2
}
