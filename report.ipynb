{
 "cells": [
  {
   "cell_type": "markdown",
   "metadata": {},
   "source": [
    "## Matheus Fernandes, Pedro Faustini"
   ]
  },
  {
   "cell_type": "markdown",
   "metadata": {},
   "source": [
    "## 1. Introdução\n",
    "\n",
    "Este trabalho estuda técnicas de mineração de dados para classificar áudio. Em específico, o universo a ser classificado consiste em dez caracteres: 6, 7, a, b, c, d, h, m, n, x. Cada arquivo de áudio, chamado de _captcha_, contém 4 caracteres, podendo haver repetição. A classificação de um _captcha_ é considerada sucesso somente se **todos** os seus quatro caracteres são corretamente identificados.\n",
    "\n",
    "Para este trabalho foram utilizadas as ferramentas mencionadas abaixo.\n",
    "\n",
    "- FFMPEG\n",
    "- Anaconda (Python>=3.5) \n",
    "- numpy>=1.13.3\n",
    "- pandas>=0.20.3\n",
    "- scikit-learn>=0.19.1\n",
    "- scipy==1.1.0 \n",
    "- librosa>=0.6.1\n",
    "- matplotlib>=1.5.3\n",
    "- ipython>=6.2.1\n",
    "- Sox (`conda install -c conda-forge sox`)\n",
    "\n",
    "Numpy e Pandas manipulam vetores de uma forma mais otimizada e rica em informação em relação à classe _list_ da biblioteca padrão do Python. Scikit-learn implementa diversos algoritmos de mineração de dados, bem como técnicas de transformação e pré-processamento. Scipy é uma biblioteca usada para computação científica. Matplotlib fornece funções para plotar imagens e gráficos. Por fim, librosa é uma biblioteca para manipulação de áudio. Também fornecemos junto com os arquivos a biblioteca `pysndfx`, que nada mais é do que um *wrapper* para o Sox. A biblioteca está disponível no [Github](https://github.com/carlthome/python-audio-effects)."
   ]
  },
  {
   "cell_type": "code",
   "execution_count": 1,
   "metadata": {},
   "outputs": [],
   "source": [
    "from IPython.display import display"
   ]
  },
  {
   "cell_type": "markdown",
   "metadata": {},
   "source": [
    "## 2. Análise exploratória\n",
    "\n",
    "A primeira tarefa é criar a estrutura de pastas necessárias para segmentar os _captchas_. Como cada _captcha_ contém quatro caracteres, a ideia é gerar quatro arquivos `.wav`, um para cada caractere."
   ]
  },
  {
   "cell_type": "code",
   "execution_count": 6,
   "metadata": {},
   "outputs": [],
   "source": [
    "from main import create_folder_structure\n",
    "create_folder_structure()"
   ]
  },
  {
   "cell_type": "markdown",
   "metadata": {},
   "source": [
    "### 2.1 Segmentação"
   ]
  },
  {
   "cell_type": "markdown",
   "metadata": {},
   "source": [
    "A segmentação segue os passos:\n",
    "\n",
    "- O áudio é normalizado (tornando o maior pico = 1). Um _limiter_ é aplicado com o parâmetro de 20dB, de modo a reduzir a diferença entre picos altos e baixos, pois nem todas as letras são gravadas com a mesma intensidade;\n",
    "- Frequências fora do intervalo 100-2500Hz são descartadas, pois têm pouca informação vocal. Então, um equalizador é aplicado na faixa de 300Hz, intensificando essas frequências. Instensidades menores que 0.5 são zeradas, a fim de remover ruído de gravação. Na prática, tentamos aproximar uma binarização entre fala e silêncio;\n",
    "- Usa-se a função `find_peaks`, da biblioteca `scipy.signal`, para encontrar os picos. Mesmo com bons parâmetros, por vezes a função encontra mais do que 4 picos, chamados daqui em diante de pontos;\n",
    "- Queremos que cada ponto represente um caractere. São escolhidos os pares de pontos mais próximos um do outro, e ambos são removidos e substituídos pela sua média. Isso é feito até que restem apenas 4 pontos. Teoricamente, ao fazer isso estamos pegando os caracteres com mais de um pico e colapsando suas posições até restar apenas um ponto, próximo ao seu centro;\n",
    "- A partir de cada ponto encontrado, é extraída do áudio original uma região de 1s para cada lado, totalizando no máximo 2s de áudio. O ruído de fundo (silêncio) de cada lado é removido, isolando apenas a fala, e, como essa operação normalmente remove o começo e final do caractere, 0.25s são adicionados de volta de cada lado;\n",
    "- Os áudios encontrados são exportados, assumindo que foram encontrados na ordem em que estão presentes no nome do arquivo.\n"
   ]
  },
  {
   "cell_type": "markdown",
   "metadata": {},
   "source": [
    "Na imagem abaixo, desenhamos as ondas de um exemplo da base de treinamento. A onda laranja representa o áudio original; a onda roxa mostra o áudio após feito o processamento. Pode-se notar que os picos estão bem mais visíveis, e as regiões de ruído de fundo tornaram-se silêncio; dessa forma, temos um áudio próximo de \"binarizado\". Os riscos em preto são os quatro pontos encontrados."
   ]
  },
  {
   "cell_type": "code",
   "execution_count": 7,
   "metadata": {},
   "outputs": [
    {
     "data": {
      "image/png": "[encoded data removed]",
      "text/plain": [
       "<Figure size 432x288 with 1 Axes>"
      ]
     },
     "metadata": {},
     "output_type": "display_data"
    }
   ],
   "source": [
    "import preprocessor as trim\n",
    "trim.trim('./fase_II/base_treinamento_II/6ahn.wav', '', True) #desenha o grafico"
   ]
  },
  {
   "cell_type": "markdown",
   "metadata": {},
   "source": [
    "### 2.2 Atributos e análise preliminar de classificadores"
   ]
  },
  {
   "cell_type": "code",
   "execution_count": 2,
   "metadata": {
    "scrolled": true
   },
   "outputs": [],
   "source": [
    "from model import train, individual_classifiers_results, test, get_final_model, final_test"
   ]
  },
  {
   "cell_type": "code",
   "execution_count": 3,
   "metadata": {},
   "outputs": [],
   "source": [
    "from display_results import resultados_acuracia, resultados_caracteres"
   ]
  },
  {
   "cell_type": "markdown",
   "metadata": {},
   "source": [
    "A função `get_spectrum` extrai a intensidade média dentro de cada um dos [espectros de áudio](https://www.teachmeaudio.com/mixing/techniques/audio-spectrum/). Por exemplo, os espectros mais agudos poderiam ajudar um classificador a separar caracteres sibilantes (com sons de \"S\", como x e 7) de caracteres não sibilantes (como m e h)."
   ]
  },
  {
   "cell_type": "markdown",
   "metadata": {},
   "source": [
    "Com o auxílio da biblioteca *librosa*, extraímos o [MFCC](https://www.maxwell.vrac.puc-rio.br/23090/23090_4.PDF) (Mel-Frequency Cepstral Coefficients) das ondas sonoras. Para cada áudio, o MFCC retornado é uma matriz, onde cada linha possui um vetor numérico. O MFCC procura imitar as características que seres humanos percebem pelo ouvido. Para não lidar com um número absurdamente grande de atributos, usamos somente a mediana e o desvio padrão de cada vetor (40 ao todo), cujos valores foram tornados positivos. Isso foi feito porque os vetores do MFCC continham valores negativos e positivos (ondas), e assim a mediana tenderia a ser sempre próxima de zero."
   ]
  },
  {
   "cell_type": "markdown",
   "metadata": {},
   "source": [
    "Além disso, também com o auxílio da *librosa*, contamos quantas vezes o áudio corta o zero no eixo y, dividido pelo tamanho do áudio, a fim de ter um valor normalizado. Também extraímos o RMS dos áudios e usamos o desvio padrão, média e a mediana como atributo. O RMS funciona como uma média para os picos do áudio. Ainda com o auxílio da librosa, extraímos média e desvio padrão de *spectral_contrast*."
   ]
  },
  {
   "cell_type": "markdown",
   "metadata": {},
   "source": [
    "A função `extract_features` agrega os atributos acima citados em um vetor com 95 *features* ao todo. Os dados são normalizados de forma a terem média 0 e desvio 1. Isso é importante principalmente para algoritmos baseados em distância, de forma que atributos com valores maiores não dominem a classificação em detrimento de outros cujos valores tendem a ser mais próximos de zero. Os resultados preliminares dos classificadores estão abaixo. Foi usada a base de treinamento fornecida para treino e a base de validação fornecida para teste."
   ]
  },
  {
   "cell_type": "code",
   "execution_count": 4,
   "metadata": {
    "scrolled": true
   },
   "outputs": [],
   "source": [
    "X_train, y_train, std_scale = train()"
   ]
  },
  {
   "cell_type": "code",
   "execution_count": 5,
   "metadata": {},
   "outputs": [],
   "source": [
    "captchas_svm, caracteres_svm, captchas_1nn, caracteres_1nn, captchas_3nn, caracteres_3nn, captchas_lda, caracteres_lda, elementos, corretos_svm,corretos_1nn, errados_svm,errados_1nn, corretos_lda,corretos_3nn, errados_lda,errados_3nn = individual_classifiers_results(X_train, y_train, std_scale)"
   ]
  },
  {
   "cell_type": "code",
   "execution_count": 6,
   "metadata": {},
   "outputs": [
    {
     "name": "stdout",
     "output_type": "stream",
     "text": [
      "\n"
     ]
    },
    {
     "data": {
      "text/markdown": [
       "#### Acurácia classificadores\n",
       "| Métrica | Taxa  |\n",
       "|:-:|:-:|\n",
       "|Acuracia SVM (captcha)| 15.44%|\n",
       "|Acuracia SVM (caracteres)| 59.63%|\n",
       "|Acuracia LDA (captcha)| 13.42%|\n",
       "|Acuracia LDA (caracteres)| 60.98%|\n",
       "|Acuracia 3NN (captcha)| 3.36%|\n",
       "|Acuracia 3NN (caracteres)| 49.32%|\n",
       "|Acuracia 1NN (captcha)| 8.72%|\n",
       "|Acuracia 1NN (caracteres)| 54.05%|"
      ],
      "text/plain": [
       "<IPython.core.display.Markdown object>"
      ]
     },
     "metadata": {},
     "output_type": "display_data"
    }
   ],
   "source": [
    "display(resultados_acuracia(\"classificadores\", [[(\"Acuracia SVM (captcha)\", \"{0:.2f}\".format(captchas_svm)), (\"Acuracia SVM (caracteres)\", \"{0:.2f}\".format(caracteres_svm)) ],[(\"Acuracia LDA (captcha)\", \"{0:.2f}\".format(captchas_lda)), (\"Acuracia LDA (caracteres)\", \"{0:.2f}\".format(caracteres_lda)) ],[(\"Acuracia 3NN (captcha)\", \"{0:.2f}\".format(captchas_3nn)), (\"Acuracia 3NN (caracteres)\", \"{0:.2f}\".format(caracteres_3nn)) ],[(\"Acuracia 1NN (captcha)\", \"{0:.2f}\".format(captchas_1nn)), (\"Acuracia 1NN (caracteres)\", \"{0:.2f}\".format(caracteres_1nn)) ]]))"
   ]
  },
  {
   "cell_type": "markdown",
   "metadata": {},
   "source": [
    "## 3. Metodologia"
   ]
  },
  {
   "cell_type": "markdown",
   "metadata": {},
   "source": [
    "Para cada caso, é calculada a acurácia na detecção de caracteres e _captchas_.\n",
    "\n",
    "Os algoritmos usados, conforme já mencionado, são 1NN, 3NN, LDA e SVM.\n",
    "\n",
    "- **KNN**: O algoritmo recebe um elemento de teste e calcula sua distância para os demais elementos na base de dados. O elemento de teste recebe a classe do elemento mais próximo. No presente caso, foi usada a distância euclidiana, com valores de k igual a 1 e 3 (ver apêndice nos testes de K realizados).\n",
    "\n",
    "\n",
    "- **SVM**: O _Support Vector Machine_, a partir de uma base de dados com elementos rotulados, constrói um modelo de pontos em um espaço de forma que cada classe esteja no espaço mais amplo possível. Então, ele traça retas, e os elementos são classificados conforme o local em que são colocados.\n",
    "    \n",
    "- **LDA**: O _Linear Discriminant Analysis_ possui uma fronteira de decisão linear. O modelo é treinado por meio de de gaussianas geradas para cada classe."
   ]
  },
  {
   "cell_type": "markdown",
   "metadata": {},
   "source": [
    "Foi usada a base de treinamento fornecida para treino e a base de validação fornecida para teste. Os melhores resultados foram obtidos por LDA e SVM, conforme mostra a Seção 2. Então realizamos um *ensemble* usando maioria de votos. Como a acurácia de caracteres do LDA foi a mais alta, deixamos o seu resultado com peso 2 na contagem de votos, e os demais com peso 1."
   ]
  },
  {
   "cell_type": "markdown",
   "metadata": {},
   "source": [
    "## 4. Resultados"
   ]
  },
  {
   "cell_type": "markdown",
   "metadata": {},
   "source": [
    "No apêndice (6.1) há ainda a acurácia na detecção de cada caracter individualmente"
   ]
  },
  {
   "cell_type": "code",
   "execution_count": 7,
   "metadata": {},
   "outputs": [],
   "source": [
    "accuracy_captcha, accuracy_character, wrong, correct, elements = test(X_train, y_train, std_scale)"
   ]
  },
  {
   "cell_type": "code",
   "execution_count": 8,
   "metadata": {},
   "outputs": [
    {
     "name": "stdout",
     "output_type": "stream",
     "text": [
      "\n"
     ]
    },
    {
     "data": {
      "text/markdown": [
       "#### Acurácia \n",
       "| Métrica | Taxa  |\n",
       "|:-:|:-:|\n",
       "|Acuracia (captcha)| 19.46%|\n",
       "|Acuracia (caracteres)| 63.85%|"
      ],
      "text/plain": [
       "<IPython.core.display.Markdown object>"
      ]
     },
     "metadata": {},
     "output_type": "display_data"
    }
   ],
   "source": [
    "display(resultados_acuracia(\"\", [[(\"Acuracia (captcha)\", \"{0:.2f}\".format(accuracy_captcha)), (\"Acuracia (caracteres)\", \"{0:.2f}\".format(accuracy_character)) ]]))"
   ]
  },
  {
   "cell_type": "markdown",
   "metadata": {},
   "source": [
    "A acurácia obtida na detecção de _captchas_ não está muito distante do previsto, com base na acurácia individual de detecção de caracteres. A afirmação vem da suposição de que um classificador que obtenha 63.85% de acurácia para os caracteres tende, ao classificar um _captcha_ com quatro caracteres, obteria: \n",
    "\n",
    "$$0.6385 \\cdot 0.6385 \\cdot 0.6385 \\cdot 0.6385 = 0.6385^4 = 16.62\\%$$\n",
    "\n",
    "Nossos testes chegaram a 19.46% de acerto."
   ]
  },
  {
   "cell_type": "markdown",
   "metadata": {},
   "source": [
    "A linha abaixo retorna o modelo final, que usa as bases de treino + validação para treinar um modelo a ser usado contra a base de teste."
   ]
  },
  {
   "cell_type": "code",
   "execution_count": 23,
   "metadata": {},
   "outputs": [],
   "source": [
    "final_classifier, std_scale = get_final_model()"
   ]
  },
  {
   "cell_type": "markdown",
   "metadata": {},
   "source": [
    "A linha abaixo executa o modelo"
   ]
  },
  {
   "cell_type": "code",
   "execution_count": 24,
   "metadata": {},
   "outputs": [],
   "source": [
    "accuracy_captcha, accuracy_character, wrong, correct, elements = final_test(std_scale, final_classifier)"
   ]
  },
  {
   "cell_type": "code",
   "execution_count": null,
   "metadata": {
    "scrolled": true
   },
   "outputs": [],
   "source": [
    "display(resultados_caracteres(\"Resultados finais\", correct, wrong, elements))"
   ]
  },
  {
   "cell_type": "code",
   "execution_count": null,
   "metadata": {},
   "outputs": [],
   "source": [
    "display(resultados_acuracia(\"\", [(\"Acuracia (captcha)\", \"{0:.2f}\".format(accuracy_captcha)), (\"Acuracia (caracteres)\", \"{0:.2f}\".format(accuracy_character)) ]))"
   ]
  },
  {
   "cell_type": "markdown",
   "metadata": {},
   "source": [
    "## 5. Comentários finais\n",
    "\n",
    "- Dificuldades encontradas\n",
    "\n",
    "    A segmentação não foi um processo trivial. Separar o áudio em faixas de tempo pré-determinadas era uma estratégia perigosa, e por isso foi necessário elaborar uma estratégia mais refinada.    \n",
    "\n",
    "\n",
    "- Ideias que não foram exploradas e a razão\n",
    "\n",
    "    "
   ]
  },
  {
   "cell_type": "markdown",
   "metadata": {},
   "source": [
    "## 6. Apêndice"
   ]
  },
  {
   "cell_type": "markdown",
   "metadata": {},
   "source": [
    "### 6.1 Classificação caracteres por caractere de cada classificador"
   ]
  },
  {
   "cell_type": "code",
   "execution_count": 9,
   "metadata": {
    "scrolled": true
   },
   "outputs": [
    {
     "data": {
      "text/markdown": [
       "### caracteres individuais LDA\n",
       "|Caractere| Acerto        | Erro          |\n",
       "|:--------|---------------:|:---------------|\n",
       "| 6 | 42/70 (60.00) | 28/70 (40.00)\n",
       "| 7 | 53/63 (84.13) | 10/63 (15.87)\n",
       "| a | 45/64 (70.31) | 19/64 (29.69)\n",
       "| b | 24/52 (46.15) | 28/52 (53.85)\n",
       "| c | 31/66 (46.97) | 35/66 (53.03)\n",
       "| d | 24/54 (44.44) | 30/54 (55.56)\n",
       "| h | 50/55 (90.91) | 5/55 (9.09)\n",
       "| m | 25/56 (44.64) | 31/56 (55.36)\n",
       "| n | 19/45 (42.22) | 26/45 (57.78)\n",
       "| x | 48/67 (71.64) | 19/67 (28.36)"
      ],
      "text/plain": [
       "<IPython.core.display.Markdown object>"
      ]
     },
     "metadata": {},
     "output_type": "display_data"
    }
   ],
   "source": [
    "display(resultados_caracteres(\"caracteres individuais LDA\", corretos_lda, errados_lda, elementos))"
   ]
  },
  {
   "cell_type": "code",
   "execution_count": 10,
   "metadata": {},
   "outputs": [
    {
     "data": {
      "text/markdown": [
       "### caracteres individuais 3NN\n",
       "|Caractere| Acerto        | Erro          |\n",
       "|:--------|---------------:|:---------------|\n",
       "| 6 | 45/70 (64.29) | 25/70 (35.71)\n",
       "| 7 | 37/63 (58.73) | 26/63 (41.27)\n",
       "| a | 35/64 (54.69) | 29/64 (45.31)\n",
       "| b | 28/52 (53.85) | 24/52 (46.15)\n",
       "| c | 24/66 (36.36) | 42/66 (63.64)\n",
       "| d | 13/54 (24.07) | 41/54 (75.93)\n",
       "| h | 44/55 (80.00) | 11/55 (20.00)\n",
       "| m | 22/56 (39.29) | 34/56 (60.71)\n",
       "| n | 16/45 (35.56) | 29/45 (64.44)\n",
       "| x | 28/67 (41.79) | 39/67 (58.21)"
      ],
      "text/plain": [
       "<IPython.core.display.Markdown object>"
      ]
     },
     "metadata": {},
     "output_type": "display_data"
    }
   ],
   "source": [
    "display(resultados_caracteres(\"caracteres individuais 3NN\", corretos_3nn, errados_3nn, elementos))"
   ]
  },
  {
   "cell_type": "code",
   "execution_count": 11,
   "metadata": {},
   "outputs": [
    {
     "data": {
      "text/markdown": [
       "### caracteres individuais 1NN\n",
       "|Caractere| Acerto        | Erro          |\n",
       "|:--------|---------------:|:---------------|\n",
       "| 6 | 39/70 (55.71) | 31/70 (44.29)\n",
       "| 7 | 38/63 (60.32) | 25/63 (39.68)\n",
       "| a | 40/64 (62.50) | 24/64 (37.50)\n",
       "| b | 19/52 (36.54) | 33/52 (63.46)\n",
       "| c | 28/66 (42.42) | 38/66 (57.58)\n",
       "| d | 19/54 (35.19) | 35/54 (64.81)\n",
       "| h | 45/55 (81.82) | 10/55 (18.18)\n",
       "| m | 30/56 (53.57) | 26/56 (46.43)\n",
       "| n | 25/45 (55.56) | 20/45 (44.44)\n",
       "| x | 37/67 (55.22) | 30/67 (44.78)"
      ],
      "text/plain": [
       "<IPython.core.display.Markdown object>"
      ]
     },
     "metadata": {},
     "output_type": "display_data"
    }
   ],
   "source": [
    "display(resultados_caracteres(\"caracteres individuais 1NN\", corretos_1nn, errados_1nn, elementos))"
   ]
  },
  {
   "cell_type": "code",
   "execution_count": 12,
   "metadata": {},
   "outputs": [
    {
     "data": {
      "text/markdown": [
       "### caracteres individuais SVM\n",
       "|Caractere| Acerto        | Erro          |\n",
       "|:--------|---------------:|:---------------|\n",
       "| 6 | 42/70 (60.00) | 28/70 (40.00)\n",
       "| 7 | 52/63 (82.54) | 11/63 (17.46)\n",
       "| a | 46/64 (71.88) | 18/64 (28.12)\n",
       "| b | 29/52 (55.77) | 23/52 (44.23)\n",
       "| c | 29/66 (43.94) | 37/66 (56.06)\n",
       "| d | 8/54 (14.81) | 46/54 (85.19)\n",
       "| h | 50/55 (90.91) | 5/55 (9.09)\n",
       "| m | 30/56 (53.57) | 26/56 (46.43)\n",
       "| n | 18/45 (40.00) | 27/45 (60.00)\n",
       "| x | 49/67 (73.13) | 18/67 (26.87)"
      ],
      "text/plain": [
       "<IPython.core.display.Markdown object>"
      ]
     },
     "metadata": {},
     "output_type": "display_data"
    }
   ],
   "source": [
    "display(resultados_caracteres(\"caracteres individuais SVM\", corretos_svm, errados_svm, elementos))"
   ]
  },
  {
   "cell_type": "code",
   "execution_count": 13,
   "metadata": {},
   "outputs": [
    {
     "data": {
      "text/markdown": [
       "### Caracteres individuais ENSEMBLE\n",
       "|Caractere| Acerto        | Erro          |\n",
       "|:--------|---------------:|:---------------|\n",
       "| 6 | 51/70 (72.86) | 19/70 (27.14)\n",
       "| 7 | 56/63 (88.89) | 7/63 (11.11)\n",
       "| a | 45/64 (70.31) | 19/64 (29.69)\n",
       "| b | 30/52 (57.69) | 22/52 (42.31)\n",
       "| c | 32/66 (48.48) | 34/66 (51.52)\n",
       "| d | 19/54 (35.19) | 35/54 (64.81)\n",
       "| h | 50/55 (90.91) | 5/55 (9.09)\n",
       "| m | 27/56 (48.21) | 29/56 (51.79)\n",
       "| n | 20/45 (44.44) | 25/45 (55.56)\n",
       "| x | 48/67 (71.64) | 19/67 (28.36)"
      ],
      "text/plain": [
       "<IPython.core.display.Markdown object>"
      ]
     },
     "metadata": {},
     "output_type": "display_data"
    }
   ],
   "source": [
    "display(resultados_caracteres(\"Caracteres individuais ENSEMBLE\", correct, wrong, elements))"
   ]
  },
  {
   "cell_type": "markdown",
   "metadata": {},
   "source": [
    "### 6.2 Importância dos atributos"
   ]
  },
  {
   "cell_type": "code",
   "execution_count": 27,
   "metadata": {},
   "outputs": [],
   "source": [
    "from sklearn.ensemble import RandomForestClassifier\n",
    "from sklearn.neighbors import KNeighborsClassifier\n",
    "from sklearn.base import clone\n",
    "import pandas as pd\n",
    "import numpy as np\n",
    "\n",
    "def dropcol_importances(rf, X_train, y_train):\n",
    "    rf_ = clone(rf)\n",
    "    rf_.random_state = 999\n",
    "    rf_.fit(X_train, y_train)\n",
    "    baseline = rf_.oob_score_\n",
    "    imp = []\n",
    "    for col in X_train.columns:\n",
    "        X = X_train.drop(col, axis=1)\n",
    "        rf_ = clone(rf)\n",
    "        rf_.random_state = 999\n",
    "        rf_.fit(X, y_train)\n",
    "        o = rf_.oob_score_\n",
    "        imp.append(baseline - o)\n",
    "    imp = np.array(imp)\n",
    "    I = pd.DataFrame(\n",
    "            data={'Feature':X_train.columns,\n",
    "                  'Importance':imp})\n",
    "    I = I.set_index('Feature')\n",
    "    I = I.sort_values('Importance', ascending=True)\n",
    "    return I\n",
    "\n",
    "\n",
    "rf = RandomForestClassifier(random_state=100, oob_score=True, n_estimators=50)\n",
    "imp = dropcol_importances(rf, pd.DataFrame(X_train), y_train)"
   ]
  },
  {
   "cell_type": "code",
   "execution_count": 28,
   "metadata": {},
   "outputs": [
    {
     "data": {
      "text/plain": [
       "<matplotlib.axes._subplots.AxesSubplot at 0x7f81b09b6c18>"
      ]
     },
     "execution_count": 28,
     "metadata": {},
     "output_type": "execute_result"
    },
    {
     "data": {
      "image/png": "[encoded data removed]",
      "text/plain": [
       "<matplotlib.figure.Figure at 0x7f81b0e1cc18>"
      ]
     },
     "metadata": {},
     "output_type": "display_data"
    }
   ],
   "source": [
    "imp[imp.Importance > 0].plot.bar()"
   ]
  },
  {
   "cell_type": "code",
   "execution_count": 29,
   "metadata": {},
   "outputs": [],
   "source": [
    "most_important = imp[imp.Importance > 0].Importance.index\n",
    "\n",
    "most_important = imp[-44:].Importance.index\n",
    "\n",
    "X_raw = std_scale.inverse_transform(X_train)\n",
    "\n",
    "X_prime = X_raw[:, most_important]"
   ]
  },
  {
   "cell_type": "code",
   "execution_count": 30,
   "metadata": {},
   "outputs": [],
   "source": [
    "from sklearn.preprocessing import StandardScaler\n",
    "\n",
    "ss = StandardScaler()\n",
    "\n",
    "X_prime = ss.fit_transform(X_prime)"
   ]
  },
  {
   "cell_type": "code",
   "execution_count": 31,
   "metadata": {},
   "outputs": [],
   "source": [
    "from sklearn.model_selection import cross_val_score\n",
    "\n",
    "clf1 = cross_val_score(KNeighborsClassifier(n_neighbors=4), X_train, y_train, cv=10)"
   ]
  },
  {
   "cell_type": "code",
   "execution_count": 32,
   "metadata": {},
   "outputs": [],
   "source": [
    "clf2 = cross_val_score(KNeighborsClassifier(n_neighbors=4), X_prime, y_train,cv=10)"
   ]
  },
  {
   "cell_type": "markdown",
   "metadata": {},
   "source": [
    "Acurácia do RF com 89 attrs"
   ]
  },
  {
   "cell_type": "code",
   "execution_count": 33,
   "metadata": {},
   "outputs": [
    {
     "data": {
      "text/plain": [
       "'51.53 %'"
      ]
     },
     "execution_count": 33,
     "metadata": {},
     "output_type": "execute_result"
    }
   ],
   "source": [
    "\"%.2f %%\" % (clf1.mean() * 100)"
   ]
  },
  {
   "cell_type": "markdown",
   "metadata": {},
   "source": [
    "Acurácia do RF com 44 attrs"
   ]
  },
  {
   "cell_type": "code",
   "execution_count": 34,
   "metadata": {},
   "outputs": [
    {
     "data": {
      "text/plain": [
       "'53.11 %'"
      ]
     },
     "execution_count": 34,
     "metadata": {},
     "output_type": "execute_result"
    }
   ],
   "source": [
    "\"%.2f %%\" % (clf2.mean() * 100)"
   ]
  },
  {
   "cell_type": "code",
   "execution_count": 35,
   "metadata": {},
   "outputs": [
    {
     "data": {
      "text/plain": [
       "(44,)"
      ]
     },
     "execution_count": 35,
     "metadata": {},
     "output_type": "execute_result"
    }
   ],
   "source": [
    "most_important.shape"
   ]
  },
  {
   "cell_type": "code",
   "execution_count": 36,
   "metadata": {},
   "outputs": [],
   "source": [
    "from sklearn.naive_bayes import GaussianNB\n",
    "from sklearn.linear_model import SGDClassifier\n",
    "from sklearn.tree import DecisionTreeClassifier"
   ]
  },
  {
   "cell_type": "code",
   "execution_count": null,
   "metadata": {},
   "outputs": [],
   "source": [
    "def calc_acc(n_features):\n",
    "    most_important = imp[-n_features:].Importance.index\n",
    "    X_prime = X_raw[:, most_important]\n",
    "    ss = StandardScaler()\n",
    "    X_prime = ss.fit_transform(X_prime)\n",
    "    clf2 = cross_val_score(SGDClassifier(), X_prime, y_train,cv=10)\n",
    "    return clf2.mean()\n",
    "\n",
    "graph = np.array([[i, calc_acc(i)] for i in range(89, 1, -1)])"
   ]
  },
  {
   "cell_type": "code",
   "execution_count": 38,
   "metadata": {},
   "outputs": [
    {
     "data": {
      "image/png": "[encoded data removed]",
      "text/plain": [
       "<matplotlib.figure.Figure at 0x7f81a3f24978>"
      ]
     },
     "metadata": {},
     "output_type": "display_data"
    }
   ],
   "source": [
    "import matplotlib.pyplot as plt\n",
    "\n",
    "plt.plot(graph[:,0], graph[:,1] * 100)\n",
    "plt.xlabel((\"N atributos\"))\n",
    "plt.ylabel(\"Acuracia (%)\")\n",
    "plt.grid()"
   ]
  },
  {
   "cell_type": "markdown",
   "metadata": {},
   "source": [
    "Maior pico do gráfico:"
   ]
  },
  {
   "cell_type": "code",
   "execution_count": 39,
   "metadata": {},
   "outputs": [
    {
     "data": {
      "text/plain": [
       "array([85.        ,  0.55626013])"
      ]
     },
     "execution_count": 39,
     "metadata": {},
     "output_type": "execute_result"
    }
   ],
   "source": [
    "graph[graph[:,1].argmax()]"
   ]
  },
  {
   "cell_type": "code",
   "execution_count": 40,
   "metadata": {},
   "outputs": [
    {
     "data": {
      "text/plain": [
       "Int64Index([64, 3, 29, 10, 44, 63, 68, 14, 54], dtype='int64', name='Feature')"
      ]
     },
     "execution_count": 40,
     "metadata": {},
     "output_type": "execute_result"
    }
   ],
   "source": [
    "most_important[:9]"
   ]
  },
  {
   "cell_type": "markdown",
   "metadata": {},
   "source": [
    "### 6.3 Acurácia do KNN, para diferentes valores de K"
   ]
  },
  {
   "cell_type": "markdown",
   "metadata": {},
   "source": [
    "Aqui, são testados diferentes valores de K para KNN, de modo a encontrar o com maior acurácia"
   ]
  },
  {
   "cell_type": "code",
   "execution_count": 41,
   "metadata": {},
   "outputs": [],
   "source": [
    "def kNN(k):    \n",
    "    acc = cross_val_score(KNeighborsClassifier(n_neighbors=k), X_train, y_train,cv=10)\n",
    "    return acc.mean()\n",
    "\n",
    "accs = np.array([[k,kNN(k)] for k in range(1, 15)] )"
   ]
  },
  {
   "cell_type": "code",
   "execution_count": 42,
   "metadata": {},
   "outputs": [
    {
     "data": {
      "text/plain": [
       "array([1.        , 0.58121956])"
      ]
     },
     "execution_count": 42,
     "metadata": {},
     "output_type": "execute_result"
    }
   ],
   "source": [
    "accs[accs[:,1].argmax()]"
   ]
  },
  {
   "cell_type": "code",
   "execution_count": 43,
   "metadata": {},
   "outputs": [
    {
     "data": {
      "text/plain": [
       "Text(0,0.5,'Acurácia (%)')"
      ]
     },
     "execution_count": 43,
     "metadata": {},
     "output_type": "execute_result"
    },
    {
     "data": {
      "image/png": "[encoded data removed]",
      "text/plain": [
       "<matplotlib.figure.Figure at 0x7f81b09ead68>"
      ]
     },
     "metadata": {},
     "output_type": "display_data"
    }
   ],
   "source": [
    "plt.plot(accs[:,0], accs[:,1] * 100)\n",
    "plt.xticks(range(1, 15))\n",
    "plt.grid()\n",
    "plt.xlabel(\"Número de vizinhos\")\n",
    "plt.ylabel(\"Acurácia (%)\")"
   ]
  }
 ],
 "metadata": {
  "kernelspec": {
   "display_name": "Python 3",
   "language": "python",
   "name": "python3"
  },
  "language_info": {
   "codemirror_mode": {
    "name": "ipython",
    "version": 3
   },
   "file_extension": ".py",
   "mimetype": "text/x-python",
   "name": "python",
   "nbconvert_exporter": "python",
   "pygments_lexer": "ipython3",
   "version": "3.6.5"
  }
 },
 "nbformat": 4,
 "nbformat_minor": 2
}
