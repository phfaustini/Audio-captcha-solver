{
 "cells": [
  {
   "cell_type": "markdown",
   "metadata": {},
   "source": [
    "# Relatório do projeto - Mineração de Dados\n",
    "\n",
    "## Matheus Fernandes, Pedro Faustini"
   ]
  },
  {
   "cell_type": "markdown",
   "metadata": {},
   "source": [
    "## 1. Introdução\n",
    "\n",
    "Este trabalho estuda técnicas de mineração de dados para classificar áudio. Em específico, o universo a ser classificado consiste em dez caracteres: 6, 7, a, b, c, d, h, m, n, x. Cada arquivo de áudio, chamado de _captcha_, contém 4 caracteres, podendo haver repetição. A classificação de um _captcha_ é considerada sucesso somente se **todos** os seus quatro caracteres são corretamente identificados.\n",
    "\n",
    "### Ferramentas necessárias para a reprodução:\n",
    "\n",
    "Para este trabalho foram utilizadas as ferramentas mencionadas abaixo.\n",
    "\n",
    "#### Aambientes e bibliotecas\n",
    "- FFMPEG\n",
    "- Anaconda (Python>=3.5) \n",
    "- numpy>=1.13.3\n",
    "- pandas>=0.20.3\n",
    "- scikit-learn>=0.19.1\n",
    "- scipy==1.1.0 \n",
    "- librosa>=0.6.1\n",
    "- matplotlib>=1.5.3\n",
    "- ipython>=6.2.1\n",
    "- Sox (`conda install -c conda-forge sox`)\n",
    "\n",
    "#### Pastas\n",
    "- É **assumido** que no diretório em que se encontra este documento haja uma pasta chamada *fase\\_II*. Dentro desta pasta deve haver duas pastas: *base\\_treinamento\\_II* e *base\\_validacao\\_II*, cada uma uma com os captchas de áudio. Também é assumido que a base de teste, a qual não tivemos acesso durante o desenvolvimento deste trabalho, esteja dentro da pasta *fase\\_II* e se chame *base\\_teste\\_II*.\n",
    "\n",
    "\n",
    "Numpy e Pandas manipulam vetores de uma forma mais otimizada e rica em informação em relação à classe _list_ da biblioteca padrão do Python. Scikit-learn implementa diversos algoritmos de mineração de dados, bem como técnicas de transformação e pré-processamento. Scipy é uma biblioteca usada para computação científica. Matplotlib fornece funções para plotar imagens e gráficos. Por fim, librosa é uma biblioteca para manipulação de áudio. Também fornecemos junto com os arquivos a biblioteca `pysndfx`, que nada mais é do que um *wrapper* para o Sox. A biblioteca está disponível no [Github](https://github.com/carlthome/python-audio-effects)."
   ]
  },
  {
   "cell_type": "code",
   "execution_count": 3,
   "metadata": {
    "collapsed": true
   },
   "outputs": [],
   "source": [
    "from IPython.display import display"
   ]
  },
  {
   "cell_type": "markdown",
   "metadata": {},
   "source": [
    "## 2. Análise exploratória\n",
    "\n",
    "A primeira tarefa é criar a estrutura de pastas necessárias para segmentar os _captchas_. Como cada _captcha_ contém quatro caracteres, a ideia é gerar quatro arquivos `.wav`, um para cada caractere."
   ]
  },
  {
   "cell_type": "code",
   "execution_count": 2,
   "metadata": {
    "collapsed": true
   },
   "outputs": [],
   "source": [
    "from main import create_folder_structure\n",
    "create_folder_structure()"
   ]
  },
  {
   "cell_type": "markdown",
   "metadata": {},
   "source": [
    "### 2.1 Segmentação"
   ]
  },
  {
   "cell_type": "markdown",
   "metadata": {},
   "source": [
    "A segmentação segue os passos:\n",
    "\n",
    "- O áudio é normalizado (tornando o maior pico = 1) e os silêncios ao início e ao fim são removidos;\n",
    "- Um _limiter_ é aplicado, com o parâmetro de 20dB. Isso significa que qualquer sinal com intensidade maior que este limite são diminuídos até 20dB. Isso é feito para tentar reduzir a diferença entre picos mais altos e mais baixos, pois nem todas as letras são gravadas com a mesma intensidade;\n",
    "- Frequências acima de 2500Hz e abaixo de 100Hz são descartadas, pois são frequências com pouca informação vocal;\n",
    "- Então, um equalizador é aplicado na faixa de 300Hz, intensificando essas frequências por 15dB. Na prática, isso causa um *boost* nas regiões onde há grande informação vocal, potencialmente até distorcendo-as, e deixando a diferença entre voz e fundo muito mais clara;\n",
    "- Samples com intensidade menor que 0.5 são zerados, em uma tentativa de remover ruído de gravação. Idealmente, regiões silenciosas (sem voz) seriam zeradas;\n",
    "- A função `find_peaks`, da biblioteca `scipy.signal` é usada para encontrar os picos do áudio. Essa função retorna todos os máximos e mínimos locais de um sinal. Mesmo passando parâmetros de altura mínima (de forma a apenas encontrar máximos) e distância mínima de 1s entre picos, por vezes a função encontra mais do que 4 picos, chamados daqui em diante de pontos;\n",
    "- A intenção é que cada ponto represente um caractere. São escolhidos os pares de pontos mais próximos um do outro, e ambos são removidos e substituídos pela sua média. Isso é feito até que restem apenas 4 pontos. Teoricamente, ao fazer isso estamos pegando os caracteres com mais de um pico e colapsando suas posições até restar apenas um ponto, próximo ao seu centro;\n",
    "- A partir de cada ponto encontrado, é extraída do áudio original uma região de 1s para cada lado, totalizando no máximo 2s de áudio. O ruído de fundo (silêncio) de cada lado e removido, isolando apenas a fala, e, como essa operação normalmente remove o começo e final do caractere, 0.25s são adicionados de volta de cada lado;\n",
    "- Os áudios encontrados são exportados, assumindo que foram encontrados na ordem em que estão presentes no nome do arquivo.\n"
   ]
  },
  {
   "cell_type": "markdown",
   "metadata": {},
   "source": [
    "Na imagem abaixo, desenhamos as ondas de um exemplo da base de treinamento.\n",
    "\n",
    "A onda verde representa o áudio original; a onda azul mostra o áudio após feito o processamento. Pode-se notar que os picos estão bem mais visíveis, e as regiões de ruído de fundo tornaram-se silêncio; dessa forma, temos um áudio próximo de \"binarizado\", onde 1 é fala, e 0 é silêncio.\n",
    "\n",
    "Os riscos em vermelho são os quatro pontos encontrados."
   ]
  },
  {
   "cell_type": "code",
   "execution_count": 2,
   "metadata": {},
   "outputs": [
    {
     "data": {
      "image/png": "[encoded data removed]",
      "text/plain": [
       "<matplotlib.figure.Figure at 0x7f4b565760b8>"
      ]
     },
     "metadata": {},
     "output_type": "display_data"
    }
   ],
   "source": [
    "import preprocessor as trim\n",
    "\n",
    "trim.trim('./fase_II/base_treinamento_II/banh.wav', '', True) #desenha o grafico"
   ]
  },
  {
   "cell_type": "markdown",
   "metadata": {},
   "source": [
    "### 2.2 Análise preliminar de classificadores"
   ]
  },
  {
   "cell_type": "markdown",
   "metadata": {},
   "source": [
    "Em um primeiro momento, é necessário criar a estrutura de pastas para que os algoritmos de mineração de dados atuem. É **assumido** que haja, no atual diretório, uma pasta chamada *fase\\_II/base\\_treinamento\\_II*, uma pasta chamada *fase\\_II/base_validacao\\_II* e outra chamada *fase\\_II/base_teste\\_II*. Dentro dessas pastas, há uma pasta para cada _captcha_ contendo um arquivo .wav, cujo nome são os quatro caracteres que compõem o _captcha_ na ordem em que aparecem."
   ]
  },
  {
   "cell_type": "markdown",
   "metadata": {},
   "source": [
    "Desta forma, a estrutura de pastas necessária para a classificação é montada. Os arquivos segmentados ficam nas pastas *output\\_training*, *output\\_validation* e *output\\_test*. Dentro de cada pasta há um arquivo .wav para cada caractere identificado na segmentação. O nome de cada arquivo é *ordem\\-caractere.wav*. Por exemplo, se o terceiro caractere de um dado _captcha_ for a letra \"d\", o nome do arquivo correspondente a ele será *3-d.wav*."
   ]
  },
  {
   "cell_type": "code",
   "execution_count": 1,
   "metadata": {
    "collapsed": true,
    "scrolled": true
   },
   "outputs": [],
   "source": [
    "from model import train, test, get_final_model, final_test"
   ]
  },
  {
   "cell_type": "code",
   "execution_count": 2,
   "metadata": {
    "collapsed": true
   },
   "outputs": [],
   "source": [
    "from preliminary_tests import individual_classifiers_results"
   ]
  },
  {
   "cell_type": "code",
   "execution_count": 3,
   "metadata": {
    "collapsed": true
   },
   "outputs": [],
   "source": [
    "from display_results import resultados_acuracia, resultados_caracteres"
   ]
  },
  {
   "cell_type": "markdown",
   "metadata": {},
   "source": [
    "A seguir é necessário extrair atributos da base de dados."
   ]
  },
  {
   "cell_type": "markdown",
   "metadata": {},
   "source": [
    "A função `get_spectrum` extrai a intensidade média dentro de cada um dos [espectros de áudio](https://www.teachmeaudio.com/mixing/techniques/audio-spectrum/). Por exemplo, os espectros mais agudos poderiam ajudar um classificador a separar caracteres sibilantes (com sons de \"S\", como x e 7) de caracteres não sibilantes (como m e h)."
   ]
  },
  {
   "cell_type": "markdown",
   "metadata": {},
   "source": [
    "Com o auxílio da biblioteca *librosa*, extraímos o [MFCC](https://www.maxwell.vrac.puc-rio.br/23090/23090_4.PDF) (Mel-Frequency Cepstral Coefficients) das ondas sonoras. Para cada áudio, o MFCC retornado é uma matriz, onde cada linha possui um vetor numérico. O MFCC procura imitar as características que seres humanos percebem pelo ouvido. Para não lidar com um número absurdamente grande de atributos, usamos somente a mediana e o desvio padrão de cada vetor, que teve todos os valores tornados positivos. Isso foi feito porque os vetores do MFCC continham valores negativos e positivos (ondas), e assim a mediana tenderia a ser sempre próxima de zero."
   ]
  },
  {
   "cell_type": "markdown",
   "metadata": {},
   "source": [
    "Além disso, também com o auxílio da *librosa*, contamos quantas vezes o áudio corta o zero no eixo y, dividido pelo tamanho do áudio, a fim de ter um valor normalizado."
   ]
  },
  {
   "cell_type": "markdown",
   "metadata": {},
   "source": [
    "A função `extract_features`, chama as funções acima citadas para criar o vetor de *features*. "
   ]
  },
  {
   "cell_type": "markdown",
   "metadata": {},
   "source": [
    "O treinamento é feito sobre toda a base de treino, e os dados são normalizados de forma a terem média 0 e desvio 1. Isso é importante principalmente para algoritmos baseados em distância, de forma que atributos com valores maiores não dominem a classificação em detrimento de outros cujos valores tendem a ser mais próximos de zero."
   ]
  },
  {
   "cell_type": "markdown",
   "metadata": {},
   "source": [
    "Primeiro avaliamos o desempenho individual de quatro algoritmos: 1NN, 3NN, SVM e LDA. Os resultados de sua acurácia, tanto para *captchas* como para caracteres, estão nas tabelas abaixo."
   ]
  },
  {
   "cell_type": "code",
   "execution_count": 6,
   "metadata": {
    "collapsed": true,
    "scrolled": true
   },
   "outputs": [],
   "source": [
    "X_train, y_train, std_scale = train()"
   ]
  },
  {
   "cell_type": "code",
   "execution_count": 7,
   "metadata": {
    "collapsed": true
   },
   "outputs": [],
   "source": [
    "captchas_svm, caracteres_svm, captchas_1nn, caracteres_1nn, captchas_3nn, caracteres_3nn, captchas_lda, caracteres_lda, elementos, corretos_svm,corretos_1nn, errados_svm,errados_1nn, corretos_lda,corretos_3nn, errados_lda,errados_3nn = individual_classifiers_results(X_train, y_train, std_scale)"
   ]
  },
  {
   "cell_type": "code",
   "execution_count": 9,
   "metadata": {},
   "outputs": [
    {
     "name": "stdout",
     "output_type": "stream",
     "text": [
      "RESULTADOS Caracteres individuais SVM\n"
     ]
    },
    {
     "data": {
      "text/markdown": [
       "|Caractere| Acerto        | Erro          |\n",
       "|:--------|---------------:|:---------------|\n",
       "|6 |43/70 (61.43%)|27/70 (38.57%)|\n",
       "|7 |52/63 (82.54%)|11/63 (17.46%)|\n",
       "|a |48/64 (75.00%)|16/64 (25.00%)|\n",
       "|b |26/52 (50.00%)|26/52 (50.00%)|\n",
       "|c |29/66 (43.94%)|37/66 (56.06%)|\n",
       "|d |7/54 (12.96%)|47/54 (87.04%)|\n",
       "|h |50/55 (90.91%)|5/55 (9.09%)|\n",
       "|m |30/56 (53.57%)|26/56 (46.43%)|\n",
       "|n |18/45 (40.00%)|27/45 (60.00%)|\n",
       "|x |51/67 (76.12%)|16/67 (23.88%)|"
      ],
      "text/plain": [
       "<IPython.core.display.Markdown object>"
      ]
     },
     "metadata": {},
     "output_type": "display_data"
    }
   ],
   "source": [
    "display(resultados_caracteres(\"Caracteres individuais SVM\", corretos_svm, errados_svm, elementos))"
   ]
  },
  {
   "cell_type": "code",
   "execution_count": 26,
   "metadata": {},
   "outputs": [
    {
     "name": "stdout",
     "output_type": "stream",
     "text": [
      "RESULTADOS GERAL SVM\n"
     ]
    },
    {
     "data": {
      "text/markdown": [
       "| Métrica                    | Taxa  |\n",
       "|:-:|:-:|\n",
       "|Acuracia SVM (captcha)      | 15.44%|\n",
       "|Acuracia (caracteres)      | 59.80%|"
      ],
      "text/plain": [
       "<IPython.core.display.Markdown object>"
      ]
     },
     "metadata": {},
     "output_type": "display_data"
    }
   ],
   "source": [
    "display(resultados_acuracia(\"GERAL SVM\", [(\"Acuracia SVM (captcha)\", \"{0:.2f}\".format(captchas_svm)), (\"Acuracia (caracteres)\", \"{0:.2f}\".format(caracteres_svm)) ]))"
   ]
  },
  {
   "cell_type": "code",
   "execution_count": 11,
   "metadata": {},
   "outputs": [
    {
     "name": "stdout",
     "output_type": "stream",
     "text": [
      "RESULTADOS Caracteres individuais 1NN\n"
     ]
    },
    {
     "data": {
      "text/markdown": [
       "|Caractere| Acerto        | Erro          |\n",
       "|:--------|---------------:|:---------------|\n",
       "|6 |39/70 (55.71%)|31/70 (44.29%)|\n",
       "|7 |39/63 (61.90%)|24/63 (38.10%)|\n",
       "|a |39/64 (60.94%)|25/64 (39.06%)|\n",
       "|b |19/52 (36.54%)|33/52 (63.46%)|\n",
       "|c |25/66 (37.88%)|41/66 (62.12%)|\n",
       "|d |20/54 (37.04%)|34/54 (62.96%)|\n",
       "|h |46/55 (83.64%)|9/55 (16.36%)|\n",
       "|m |29/56 (51.79%)|27/56 (48.21%)|\n",
       "|n |24/45 (53.33%)|21/45 (46.67%)|\n",
       "|x |39/67 (58.21%)|28/67 (41.79%)|"
      ],
      "text/plain": [
       "<IPython.core.display.Markdown object>"
      ]
     },
     "metadata": {},
     "output_type": "display_data"
    }
   ],
   "source": [
    "display(resultados_caracteres(\"Caracteres individuais 1NN\", corretos_1nn, errados_1nn, elementos))"
   ]
  },
  {
   "cell_type": "code",
   "execution_count": 25,
   "metadata": {},
   "outputs": [
    {
     "name": "stdout",
     "output_type": "stream",
     "text": [
      "RESULTADOS GERAL 1NN\n"
     ]
    },
    {
     "data": {
      "text/markdown": [
       "| Métrica                    | Taxa  |\n",
       "|:-:|:-:|\n",
       "|Acuracia 1NN (captcha)      | 11.41%|\n",
       "|Acuracia (caracteres)      | 53.89%|"
      ],
      "text/plain": [
       "<IPython.core.display.Markdown object>"
      ]
     },
     "metadata": {},
     "output_type": "display_data"
    }
   ],
   "source": [
    "display(resultados_acuracia(\"GERAL 1NN\", [(\"Acuracia 1NN (captcha)\", \"{0:.2f}\".format(captchas_1nn)), (\"Acuracia (caracteres)\", \"{0:.2f}\".format(caracteres_1nn)) ]))"
   ]
  },
  {
   "cell_type": "code",
   "execution_count": 13,
   "metadata": {},
   "outputs": [
    {
     "name": "stdout",
     "output_type": "stream",
     "text": [
      "RESULTADOS Caracteres individuais 3NN\n"
     ]
    },
    {
     "data": {
      "text/markdown": [
       "|Caractere| Acerto        | Erro          |\n",
       "|:--------|---------------:|:---------------|\n",
       "|6 |47/70 (67.14%)|23/70 (32.86%)|\n",
       "|7 |40/63 (63.49%)|23/63 (36.51%)|\n",
       "|a |37/64 (57.81%)|27/64 (42.19%)|\n",
       "|b |24/52 (46.15%)|28/52 (53.85%)|\n",
       "|c |23/66 (34.85%)|43/66 (65.15%)|\n",
       "|d |13/54 (24.07%)|41/54 (75.93%)|\n",
       "|h |46/55 (83.64%)|9/55 (16.36%)|\n",
       "|m |22/56 (39.29%)|34/56 (60.71%)|\n",
       "|n |16/45 (35.56%)|29/45 (64.44%)|\n",
       "|x |29/67 (43.28%)|38/67 (56.72%)|"
      ],
      "text/plain": [
       "<IPython.core.display.Markdown object>"
      ]
     },
     "metadata": {},
     "output_type": "display_data"
    }
   ],
   "source": [
    "display(resultados_caracteres(\"Caracteres individuais 3NN\", corretos_3nn, errados_3nn, elementos))"
   ]
  },
  {
   "cell_type": "code",
   "execution_count": 24,
   "metadata": {},
   "outputs": [
    {
     "name": "stdout",
     "output_type": "stream",
     "text": [
      "RESULTADOS GERAL 3NN\n"
     ]
    },
    {
     "data": {
      "text/markdown": [
       "| Métrica                    | Taxa  |\n",
       "|:-:|:-:|\n",
       "|Acuracia 3NN (captcha)      | 6.04%|\n",
       "|Acuracia (caracteres)      | 50.17%|"
      ],
      "text/plain": [
       "<IPython.core.display.Markdown object>"
      ]
     },
     "metadata": {},
     "output_type": "display_data"
    }
   ],
   "source": [
    "display(resultados_acuracia(\"GERAL 3NN\", [(\"Acuracia 3NN (captcha)\", \"{0:.2f}\".format(captchas_3nn)), (\"Acuracia (caracteres)\", \"{0:.2f}\".format(caracteres_3nn)) ]))"
   ]
  },
  {
   "cell_type": "code",
   "execution_count": 15,
   "metadata": {},
   "outputs": [
    {
     "name": "stdout",
     "output_type": "stream",
     "text": [
      "RESULTADOS Caracteres individuais LDA\n"
     ]
    },
    {
     "data": {
      "text/markdown": [
       "|Caractere| Acerto        | Erro          |\n",
       "|:--------|---------------:|:---------------|\n",
       "|6 |43/70 (61.43%)|27/70 (38.57%)|\n",
       "|7 |53/63 (84.13%)|10/63 (15.87%)|\n",
       "|a |45/64 (70.31%)|19/64 (29.69%)|\n",
       "|b |24/52 (46.15%)|28/52 (53.85%)|\n",
       "|c |30/66 (45.45%)|36/66 (54.55%)|\n",
       "|d |25/54 (46.30%)|29/54 (53.70%)|\n",
       "|h |49/55 (89.09%)|6/55 (10.91%)|\n",
       "|m |28/56 (50.00%)|28/56 (50.00%)|\n",
       "|n |20/45 (44.44%)|25/45 (55.56%)|\n",
       "|x |47/67 (70.15%)|20/67 (29.85%)|"
      ],
      "text/plain": [
       "<IPython.core.display.Markdown object>"
      ]
     },
     "metadata": {},
     "output_type": "display_data"
    }
   ],
   "source": [
    "display(resultados_caracteres(\"Caracteres individuais LDA\", corretos_lda, errados_lda, elementos))"
   ]
  },
  {
   "cell_type": "code",
   "execution_count": 23,
   "metadata": {},
   "outputs": [
    {
     "name": "stdout",
     "output_type": "stream",
     "text": [
      "RESULTADOS GERAL LDA\n"
     ]
    },
    {
     "data": {
      "text/markdown": [
       "| Métrica                    | Taxa  |\n",
       "|:-:|:-:|\n",
       "|Acuracia LDA (captcha)      | 14.09%|\n",
       "|Acuracia (caracteres)      | 61.49%|"
      ],
      "text/plain": [
       "<IPython.core.display.Markdown object>"
      ]
     },
     "metadata": {},
     "output_type": "display_data"
    }
   ],
   "source": [
    "display(resultados_acuracia(\"GERAL LDA\", [(\"Acuracia LDA (captcha)\", \"{0:.2f}\".format(captchas_lda)), (\"Acuracia (caracteres)\", \"{0:.2f}\".format(caracteres_lda)) ]))"
   ]
  },
  {
   "cell_type": "markdown",
   "metadata": {},
   "source": [
    "Os melhores resultados foram obtidos por LDA e SVM. Então realizamos um *ensemble* usando maioria de votos. Como a acurácia de caracteres do LDA foi a mais alta, deixamos o seu resultado com peso 2 na contagem de votos, e os demais com peso 1."
   ]
  },
  {
   "cell_type": "markdown",
   "metadata": {},
   "source": [
    "## 3. Metodologia"
   ]
  },
  {
   "cell_type": "markdown",
   "metadata": {},
   "source": [
    "Para cada caso, é calculada a acurácia na detecção de cada caracter. Também é calculada a acurácia geral na detecção de caracteres. Por fim, é calculada a acurácia na detecção de _captchas_.\n",
    "\n",
    "Os algoritmos usados, conforme já mencionado, são 1NN, 3NN, LDA e SVM.\n",
    "\n",
    "- KNN:\n",
    "\n",
    "    O algoritmo recebe um elemento de teste e calcula sua distância para os demais elementos na base de dados. O elemento de teste recebe a classe do elemento mais próximo. No presente caso, foi usada a distância euclidiana, com valores de k igual a 1 e 3.\n",
    "\n",
    "\n",
    "- SVM:\n",
    "\n",
    "    Sigla para _Support Vector Machine_. A partir de uma base de dados com elementos rotulados, o algoritmo constrói um modelo de pontos em um espaço de forma que cada classe esteja no espaço mais amplo possível. Então, ele traça retas, e os elementos são classificados conforme o local em que são colocados.\n",
    "    \n",
    "- LDA:\n",
    "\n",
    "    Sigla para _Linear Discriminant Analysis_. Possui uma fronteira de decisão linear. O modelo é treinado por meio de de gaussianas geradas para cada classe."
   ]
  },
  {
   "cell_type": "markdown",
   "metadata": {},
   "source": [
    "A análise exploratória mostrou que o algoritmo SVM apresentava um bom desempenho geral, mas nos casos específicos das letras 'd' e 'm', sua taxa de acerto era inferior à taxa de erro. O 1NN, por outro lado, apresentava resultados melhores. \n",
    "\n",
    "Foi usada, portanto, a seguinte heurística: o resultado escolhido é aquele indicado pelo SVM. Porém, caso tal resultado seja os caracteres 'd' ou 'm', opta-se pela resposta de 1NN. Como em somente 10% dos casos o SVM reportava 'd' como resposta corretamente, tal abordagem resultaria em um recall muito baixo da letra 'd'. Então, também foi decidido que sempre que 1NN reportasse o caractere 'd' ou o caractere 'm', sua resposta seria a escolhida."
   ]
  },
  {
   "cell_type": "markdown",
   "metadata": {},
   "source": [
    "## 4. Resultados"
   ]
  },
  {
   "cell_type": "markdown",
   "metadata": {},
   "source": [
    "Os melhores resultados foram obtidos por LDA e SVM. Então realizamos um *ensemble* usando maioria de votos. Como a acurácia de caracteres do LDA foi a mais alta, deixamos o seu resultado com peso 2 na contagem de votos, e os demais com peso 1."
   ]
  },
  {
   "cell_type": "code",
   "execution_count": null,
   "metadata": {
    "collapsed": true
   },
   "outputs": [],
   "source": [
    "accuracy_captcha, accuracy_character, wrong, correct, elements = test(X_train, y_train, std_scale)"
   ]
  },
  {
   "cell_type": "code",
   "execution_count": 20,
   "metadata": {},
   "outputs": [
    {
     "name": "stdout",
     "output_type": "stream",
     "text": [
      "RESULTADOS Resultados finais\n"
     ]
    },
    {
     "data": {
      "text/markdown": [
       "|Caractere| Acerto        | Erro          |\n",
       "|:--------|---------------:|:---------------|\n",
       "|6 |49/70 (70.00%)|21/70 (30.00%)|\n",
       "|7 |54/63 (85.71%)|9/63 (14.29%)|\n",
       "|a |46/64 (71.88%)|18/64 (28.12%)|\n",
       "|b |29/52 (55.77%)|23/52 (44.23%)|\n",
       "|c |32/66 (48.48%)|34/66 (51.52%)|\n",
       "|d |16/54 (29.63%)|38/54 (70.37%)|\n",
       "|h |49/55 (89.09%)|6/55 (10.91%)|\n",
       "|m |28/56 (50.00%)|28/56 (50.00%)|\n",
       "|n |20/45 (44.44%)|25/45 (55.56%)|\n",
       "|x |47/67 (70.15%)|20/67 (29.85%)|"
      ],
      "text/plain": [
       "<IPython.core.display.Markdown object>"
      ]
     },
     "metadata": {},
     "output_type": "display_data"
    }
   ],
   "source": [
    "display(resultados_caracteres(\"Resultados finais\", correct, wrong, elements))"
   ]
  },
  {
   "cell_type": "code",
   "execution_count": 21,
   "metadata": {},
   "outputs": [
    {
     "name": "stdout",
     "output_type": "stream",
     "text": [
      "RESULTADOS \n"
     ]
    },
    {
     "data": {
      "text/markdown": [
       "| Métrica                    | Taxa  |\n",
       "|:-:|:-:|\n",
       "|Acuracia (captcha)      | 18.12%|\n",
       "|Acuracia (caracteres)      | 62.50%|"
      ],
      "text/plain": [
       "<IPython.core.display.Markdown object>"
      ]
     },
     "metadata": {},
     "output_type": "display_data"
    }
   ],
   "source": [
    "display(resultados_acuracia(\"\", [(\"Acuracia (captcha)\", \"{0:.2f}\".format(accuracy_captcha)), (\"Acuracia (caracteres)\", \"{0:.2f}\".format(accuracy_character)) ]))"
   ]
  },
  {
   "cell_type": "markdown",
   "metadata": {},
   "source": [
    "A acurácia obtida na detecção de _captchas_ não está muito distante do previsto, com base na acurácia individual de detecção de caracteres. A afirmação vem da suposição de que um classificador que obtenha 62.5% de acurácia para os caracteres tende, ao classificar um _captcha_ com quatro caracteres, obteria: \n",
    "\n",
    "$$0.625 \\cdot 0.625 \\cdot 0.625 \\cdot 0.625 = 0.625^4 = 15.25\\%$$\n",
    "\n",
    "Nossos testes chegaram a 18.12% de acerto."
   ]
  },
  {
   "cell_type": "markdown",
   "metadata": {},
   "source": [
    "A linha abaixo retorna o modelo final, que usa as bases de treino + validação para treinar um modelo a ser usado contra a base de teste."
   ]
  },
  {
   "cell_type": "code",
   "execution_count": 4,
   "metadata": {
    "collapsed": true
   },
   "outputs": [],
   "source": [
    "final_classifier, std_scale = get_final_model()"
   ]
  },
  {
   "cell_type": "markdown",
   "metadata": {},
   "source": [
    "A linha abaixo executa o modelo"
   ]
  },
  {
   "cell_type": "code",
   "execution_count": 5,
   "metadata": {
    "collapsed": true
   },
   "outputs": [],
   "source": [
    "accuracy_captcha, accuracy_character, wrong, correct, elements = final_test(std_scale, final_classifier)"
   ]
  },
  {
   "cell_type": "code",
   "execution_count": 6,
   "metadata": {},
   "outputs": [
    {
     "name": "stdout",
     "output_type": "stream",
     "text": [
      "RESULTADOS Resultados finais\n"
     ]
    },
    {
     "data": {
      "text/markdown": [
       "|Caractere| Acerto        | Erro          |\n",
       "|:--------|---------------:|:---------------|\n",
       "|6 |43/80 (53.75%)|37/80 (46.25%)|\n",
       "|7 |64/87 (73.56%)|23/87 (26.44%)|\n",
       "|a |77/91 (84.62%)|14/91 (15.38%)|\n",
       "|b |54/85 (63.53%)|31/85 (36.47%)|\n",
       "|c |44/74 (59.46%)|30/74 (40.54%)|\n",
       "|d |16/57 (28.07%)|41/57 (71.93%)|\n",
       "|h |66/87 (75.86%)|21/87 (24.14%)|\n",
       "|m |22/67 (32.84%)|45/67 (67.16%)|\n",
       "|n |16/84 (19.05%)|68/84 (80.95%)|\n",
       "|x |59/78 (75.64%)|19/78 (24.36%)|"
      ],
      "text/plain": [
       "<IPython.core.display.Markdown object>"
      ]
     },
     "metadata": {},
     "output_type": "display_data"
    }
   ],
   "source": [
    "display(resultados_caracteres(\"Resultados finais\", correct, wrong, elements))"
   ]
  },
  {
   "cell_type": "code",
   "execution_count": 7,
   "metadata": {},
   "outputs": [
    {
     "name": "stdout",
     "output_type": "stream",
     "text": [
      "RESULTADOS \n"
     ]
    },
    {
     "data": {
      "text/markdown": [
       "| Métrica                    | Taxa  |\n",
       "|:-:|:-:|\n",
       "|Acuracia (captcha)      | 10.00%|\n",
       "|Acuracia (caracteres)      | 58.35%|"
      ],
      "text/plain": [
       "<IPython.core.display.Markdown object>"
      ]
     },
     "metadata": {},
     "output_type": "display_data"
    }
   ],
   "source": [
    "display(resultados_acuracia(\"\", [(\"Acuracia (captcha)\", \"{0:.2f}\".format(accuracy_captcha)), (\"Acuracia (caracteres)\", \"{0:.2f}\".format(accuracy_character)) ]))"
   ]
  },
  {
   "cell_type": "markdown",
   "metadata": {},
   "source": [
    "## 5. Comentários finais\n",
    "\n",
    "- Dificuldades encontradas\n",
    "\n",
    "    A segmentação não foi um processo trivial. Separar o áudio em faixas de tempo pré-determinadas era uma estratégia perigosa, e por isso foi necessário elaborar uma estratégia mais refinada.    \n",
    "\n",
    "\n",
    "- Ideias que não foram exploradas e a razão\n",
    "\n",
    "    "
   ]
  }
 ],
 "metadata": {
  "kernelspec": {
   "display_name": "Python 3",
   "language": "python",
   "name": "python3"
  },
  "language_info": {
   "codemirror_mode": {
    "name": "ipython",
    "version": 3
   },
   "file_extension": ".py",
   "mimetype": "text/x-python",
   "name": "python",
   "nbconvert_exporter": "python",
   "pygments_lexer": "ipython3",
   "version": "3.6.2"
  }
 },
 "nbformat": 4,
 "nbformat_minor": 2
}
